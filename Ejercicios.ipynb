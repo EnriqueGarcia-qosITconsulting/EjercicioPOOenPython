{
 "cells": [
  {
   "cell_type": "markdown",
   "metadata": {},
   "source": [
    "# Ejercicios de Programación Orientada a Objetos\n",
    "\n",
    "## Ejercicio 1: Creación de una Clase Básica\n",
    "Crea una clase llamada `Libro` que tenga los siguientes atributos:\n",
    "- título\n",
    "- autor\n",
    "- año_publicacion\n",
    "- disponible (booleano)\n",
    "\n",
    "Implementa los métodos:\n",
    "- `prestar()`: cambia disponible a False\n",
    "- `devolver()`: cambia disponible a True\n",
    "- `info()`: muestra toda la información del libro"
   ]
  },
  {
   "cell_type": "code",
   "execution_count": 1,
   "metadata": {},
   "outputs": [
    {
     "name": "stdout",
     "output_type": "stream",
     "text": [
      "El libro 'Título1' ha sido prestado.\n",
      "Título: Título1\n",
      "Autor: Autor1\n",
      "Año de publicación: 2001\n",
      "Estado: no disponible\n",
      "El libro 'Título1' ha sido devuelto y está disponible nuevamente.\n",
      "Título: Título1\n",
      "Autor: Autor1\n",
      "Año de publicación: 2001\n",
      "Estado: disponible\n"
     ]
    }
   ],
   "source": [
    "# Tu código aquí\n",
    "class Libro:\n",
    "    def __init__(self, titulo, autor, año_publicacion):\n",
    "        self.titulo = titulo\n",
    "        self.autor = autor\n",
    "        self.año_publicacion = año_publicacion\n",
    "        self.disponible = True\n",
    "\n",
    "    def prestar(self):\n",
    "        if self.disponible:\n",
    "            self.disponible = False\n",
    "            print(f\"El libro '{self.titulo}' ha sido prestado.\")\n",
    "        else:\n",
    "            print(f\"El libro '{self.titulo}' ya no está disponible para préstamo.\")\n",
    "\n",
    "    def devolver(self):\n",
    "        if not self.disponible:\n",
    "            self.disponible = True\n",
    "            print(f\"El libro '{self.titulo}' ha sido devuelto y está disponible nuevamente.\")\n",
    "        else:\n",
    "            print(f\"El libro '{self.titulo}' ya está disponible.\")\n",
    "\n",
    "    def info(self):\n",
    "        disponibilidad = \"disponible\" if self.disponible else \"no disponible\"\n",
    "        print(f\"Título: {self.titulo}\")\n",
    "        print(f\"Autor: {self.autor}\")\n",
    "        print(f\"Año de publicación: {self.año_publicacion}\")\n",
    "        print(f\"Estado: {disponibilidad}\")\n",
    "\n",
    "libro1 = Libro(\"Título1\",\"Autor1\",\"2001\")\n",
    "libro1.prestar()\n",
    "libro1.info()\n",
    "libro1.devolver()\n",
    "libro1.info()\n",
    "\n"
   ]
  },
  {
   "cell_type": "markdown",
   "metadata": {},
   "source": [
    "## Ejercicio 2: Herencia\n",
    "Crea una clase `Vehiculo` con atributos básicos como `marca`, `modelo` y `año`.\n",
    "Luego crea dos clases que hereden de `Vehiculo`:\n",
    "- `Coche` (con atributo adicional `num_puertas`)\n",
    "- `Moto` (con atributo adicional `cilindrada`)\n",
    "\n",
    "Cada clase debe tener un método `mostrar_info()` que muestre sus atributos."
   ]
  },
  {
   "cell_type": "code",
   "execution_count": 24,
   "metadata": {},
   "outputs": [
    {
     "name": "stdout",
     "output_type": "stream",
     "text": [
      "Marca: Opel\n",
      "Modelo: Corsa\n",
      "Año: 2003\n",
      "Marca: Hyundai\n",
      "Modelo: i20\n",
      "Año: 2018\n",
      "Número de puertas: 5\n",
      "Marca: Dacia\n",
      "Modelo: Sandero\n",
      "Año: 2017\n",
      "Cilindrada: 1200\n"
     ]
    }
   ],
   "source": [
    "# Tu código aquí\n",
    "class Vehiculo:\n",
    "    def __init__(self,marca,modelo,año):\n",
    "        self.marca = marca\n",
    "        self.modelo = modelo\n",
    "        self.año = año\n",
    "\n",
    "    def mostrar_info(self):\n",
    "        print(f\"Marca: {self.marca}\")\n",
    "        print(f\"Modelo: {self.modelo}\")\n",
    "        print(f\"Año: {self.año}\")\n",
    "\n",
    "\n",
    "class Coche(Vehiculo):\n",
    "    num_puertas = \"\"\n",
    "\n",
    "    def mostrar_info(self):\n",
    "        print(f\"Marca: {self.marca}\")\n",
    "        print(f\"Modelo: {self.modelo}\")\n",
    "        print(f\"Año: {self.año}\")\n",
    "        print(f\"Número de puertas: {self.num_puertas}\")\n",
    "\n",
    "class Motor(Vehiculo):\n",
    "    cilindrada = \"\"\n",
    "    \n",
    "    def mostrar_info(self):\n",
    "        print(f\"Marca: {self.marca}\")\n",
    "        print(f\"Modelo: {self.modelo}\")\n",
    "        print(f\"Año: {self.año}\")\n",
    "        print(f\"Cilindrada: {self.cilindrada}\")\n",
    "\n",
    "coche1 = Vehiculo(\"Opel\",\"Corsa\",\"2003\")\n",
    "coche1.mostrar_info()\n",
    "coche2 = Coche(\"Hyundai\",\"i20\",\"2018\")\n",
    "coche2.num_puertas = 5\n",
    "coche2.mostrar_info()\n",
    "coche3 = Motor(\"Dacia\",\"Sandero\",\"2017\")\n",
    "coche3.cilindrada = 1200\n",
    "coche3.mostrar_info()\n",
    "\n"
   ]
  },
  {
   "cell_type": "markdown",
   "metadata": {},
   "source": [
    "## Ejercicio 3: Encapsulamiento\n",
    "Crea una clase `CuentaBancaria` con:\n",
    "- Atributos privados: `__saldo` y `__num_cuenta`\n",
    "- Métodos:\n",
    "  - `depositar(cantidad)`\n",
    "  - `retirar(cantidad)`\n",
    "  - `consultar_saldo()`\n",
    "\n",
    "Asegúrate de que no se pueda retirar más dinero del disponible."
   ]
  },
  {
   "cell_type": "code",
   "execution_count": 28,
   "metadata": {},
   "outputs": [
    {
     "name": "stdout",
     "output_type": "stream",
     "text": [
      "Saldo depositado: 200\n",
      "No hay suficiente saldo para retirar\n"
     ]
    },
    {
     "data": {
      "text/plain": [
       "50.0"
      ]
     },
     "execution_count": 28,
     "metadata": {},
     "output_type": "execute_result"
    }
   ],
   "source": [
    "# Tu código aquí\n",
    "class CuentaBancaria():\n",
    "    __saldo = 0.0\n",
    "    __num_cuenta = \"123414\"\n",
    "    def depositar(self,cantidad):\n",
    "        self.__saldo += cantidad\n",
    "        print(f\"Saldo depositado: {cantidad}\")\n",
    "\n",
    "    def retirar(self,cantidad):\n",
    "        if cantidad > self.__saldo:\n",
    "            print(\"No hay suficiente saldo para retirar\")\n",
    "        else:\n",
    "            self.__saldo -= cantidad\n",
    "\n",
    "    def consultar_saldo(self):\n",
    "        return self.__saldo\n",
    "\n",
    "cuenta = CuentaBancaria()\n",
    "cuenta.depositar(200)\n",
    "cuenta.retirar(250)\n",
    "cuenta.retirar(150)\n",
    "cuenta.consultar_saldo()\n"
   ]
  },
  {
   "cell_type": "markdown",
   "metadata": {},
   "source": [
    "## Ejercicio 4: Polimorfismo\n",
    "Crea una clase `FiguraGeometrica` con un método `calcular_area()`.\n",
    "Luego crea las clases:\n",
    "- `Rectangulo`\n",
    "- `Circulo`\n",
    "- `Triangulo`\n",
    "\n",
    "Cada una debe implementar su propio método `calcular_area()`."
   ]
  },
  {
   "cell_type": "code",
   "execution_count": 31,
   "metadata": {},
   "outputs": [
    {
     "name": "stdout",
     "output_type": "stream",
     "text": [
      "12\n",
      "78.53981633974483\n",
      "6.0\n"
     ]
    }
   ],
   "source": [
    "# Tu código aquí\n",
    "import math\n",
    "\n",
    "class FiguraGeometrica():\n",
    "    def calcular_area(self):\n",
    "        pass\n",
    "\n",
    "class Rectangulo(FiguraGeometrica):\n",
    "    def __init__ (self,lado1,lado2):\n",
    "        self.lado1 = lado1\n",
    "        self.lado2 = lado2\n",
    "\n",
    "    def calcular_area(self):\n",
    "        print(self.lado1 * self.lado2)\n",
    "\n",
    "class Circulo(FiguraGeometrica):\n",
    "    def __init__ (self,radio):\n",
    "        self.radio = radio\n",
    "\n",
    "    def calcular_area(self):\n",
    "        print(math.pi * (self.radio ** 2))\n",
    "\n",
    "class Triangulo(FiguraGeometrica):\n",
    "    def __init__ (self,base, altura):\n",
    "        self.base = base\n",
    "        self.altura = altura\n",
    "\n",
    "    def calcular_area(self):\n",
    "        print((self.base * self.altura) / 2)\n",
    "\n",
    "rectangulo = Rectangulo(3,4)\n",
    "rectangulo.calcular_area()\n",
    "\n",
    "circulo = Circulo(5)\n",
    "circulo.calcular_area()\n",
    "\n",
    "triangulo = Triangulo(3,4)\n",
    "triangulo.calcular_area()"
   ]
  },
  {
   "cell_type": "markdown",
   "metadata": {},
   "source": [
    "## Ejercicio 5: Proyecto Final\n",
    "Crea un sistema simple de gestión de una biblioteca usando POO.\n",
    "Debe incluir:\n",
    "- Clase `Biblioteca`\n",
    "- Clase `Libro`\n",
    "- Clase `Usuario`\n",
    "\n",
    "Implementa métodos para:\n",
    "- Agregar/eliminar libros\n",
    "- Registrar usuarios\n",
    "- Prestar/devolver libros\n",
    "- Mostrar inventario\n",
    "- Mostrar libros prestados"
   ]
  },
  {
   "cell_type": "code",
   "execution_count": null,
   "metadata": {},
   "outputs": [],
   "source": [
    "# Tu código aquí\n"
   ]
  }
 ],
 "metadata": {
  "kernelspec": {
   "display_name": "Python 3",
   "language": "python",
   "name": "python3"
  },
  "language_info": {
   "codemirror_mode": {
    "name": "ipython",
    "version": 3
   },
   "file_extension": ".py",
   "mimetype": "text/x-python",
   "name": "python",
   "nbconvert_exporter": "python",
   "pygments_lexer": "ipython3",
   "version": "3.13.2"
  }
 },
 "nbformat": 4,
 "nbformat_minor": 2
}
